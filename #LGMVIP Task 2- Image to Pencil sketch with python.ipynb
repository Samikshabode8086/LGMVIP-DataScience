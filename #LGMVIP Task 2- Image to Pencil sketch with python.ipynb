{
 "cells": [
  {
   "cell_type": "markdown",
   "id": "e3d972be",
   "metadata": {},
   "source": [
    "# LGMPVIP - DATA SCIENCE INTERN "
   ]
  },
  {
   "cell_type": "markdown",
   "id": "29b1ed30",
   "metadata": {},
   "source": [
    "# TASK 2- Image to Pencil sketch with python"
   ]
  },
  {
   "cell_type": "markdown",
   "id": "2ab4b931",
   "metadata": {},
   "source": [
    "# Submitted by - Samiksha Vijay Bode"
   ]
  },
  {
   "cell_type": "code",
   "execution_count": 29,
   "id": "f529a14a",
   "metadata": {},
   "outputs": [
    {
     "name": "stdout",
     "output_type": "stream",
     "text": [
      "Requirement already satisfied: opencv-python in c:\\users\\nacl\\appdata\\local\\programs\\python\\python39\\lib\\site-packages (4.5.5.62)\n",
      "Requirement already satisfied: numpy>=1.14.5 in c:\\users\\nacl\\appdata\\local\\programs\\python\\python39\\lib\\site-packages (from opencv-python) (1.22.0)\n",
      "Note: you may need to restart the kernel to use updated packages.\n"
     ]
    }
   ],
   "source": [
    "pip install opencv-python"
   ]
  },
  {
   "cell_type": "code",
   "execution_count": 30,
   "id": "ecf8f62f",
   "metadata": {},
   "outputs": [],
   "source": [
    "import cv2"
   ]
  },
  {
   "cell_type": "code",
   "execution_count": 31,
   "id": "29665a54",
   "metadata": {},
   "outputs": [],
   "source": [
    "img = cv2.imread(\"flower.jpeg\")"
   ]
  },
  {
   "cell_type": "code",
   "execution_count": 32,
   "id": "eb392e4b",
   "metadata": {},
   "outputs": [],
   "source": [
    "gray_image = cv2.cvtColor(img, cv2.COLOR_BGR2GRAY)"
   ]
  },
  {
   "cell_type": "code",
   "execution_count": 33,
   "id": "64799d9e",
   "metadata": {},
   "outputs": [],
   "source": [
    "inverted_gray_image = 255 - gray_image"
   ]
  },
  {
   "cell_type": "code",
   "execution_count": 34,
   "id": "d74b46e0",
   "metadata": {},
   "outputs": [],
   "source": [
    "blurred_image = cv2.GaussianBlur(inverted_gray_image, (21, 21), 0)"
   ]
  },
  {
   "cell_type": "code",
   "execution_count": 35,
   "id": "caf7cc11",
   "metadata": {},
   "outputs": [],
   "source": [
    "inverted_blurred_image = 255 - blurred_image"
   ]
  },
  {
   "cell_type": "code",
   "execution_count": 36,
   "id": "a3cad4e9",
   "metadata": {},
   "outputs": [],
   "source": [
    "pencil_sketch_image = cv2.divide(gray_image, inverted_blurred_image, scale = 256.0)"
   ]
  },
  {
   "cell_type": "code",
   "execution_count": 37,
   "id": "3c451dea",
   "metadata": {},
   "outputs": [],
   "source": [
    "cv2.imshow('Original Image', img)"
   ]
  },
  {
   "cell_type": "code",
   "execution_count": 38,
   "id": "d20899c4",
   "metadata": {},
   "outputs": [],
   "source": [
    "cv2.imshow('New Image', pencil_sketch_image)"
   ]
  },
  {
   "cell_type": "code",
   "execution_count": 28,
   "id": "3b2c6c17",
   "metadata": {},
   "outputs": [
    {
     "data": {
      "text/plain": [
       "-1"
      ]
     },
     "execution_count": 28,
     "metadata": {},
     "output_type": "execute_result"
    }
   ],
   "source": [
    "cv2.waitKey(0)"
   ]
  },
  {
   "cell_type": "code",
   "execution_count": null,
   "id": "5cb5bbfa",
   "metadata": {},
   "outputs": [],
   "source": []
  }
 ],
 "metadata": {
  "kernelspec": {
   "display_name": "Python 3 (ipykernel)",
   "language": "python",
   "name": "python3"
  },
  "language_info": {
   "codemirror_mode": {
    "name": "ipython",
    "version": 3
   },
   "file_extension": ".py",
   "mimetype": "text/x-python",
   "name": "python",
   "nbconvert_exporter": "python",
   "pygments_lexer": "ipython3",
   "version": "3.9.7"
  }
 },
 "nbformat": 4,
 "nbformat_minor": 5
}
